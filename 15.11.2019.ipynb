{
 "cells": [
  {
   "cell_type": "code",
   "execution_count": null,
   "metadata": {},
   "outputs": [],
   "source": [
    "# 1. Read a number as input and Print the Output as Factors of the given number\n",
    "#   Example 1:\n",
    "#     Input : 6\n",
    "#     Output : 1 2 3 6\n",
    "#  Example 2 :\n",
    "#     Input : 12\n",
    "#     Output : 1 2 3 4 6 12\n",
    "def factors():\n",
    "    n=int(input('enter a num')) \n",
    "    for i in range(1,n+1):\n",
    "        if n%i==0:\n",
    "             print(i)\n",
    "factors()       \n",
    "       \n",
    "\n",
    " "
   ]
  },
  {
   "cell_type": "code",
   "execution_count": null,
   "metadata": {},
   "outputs": [],
   "source": [
    "# 2.The program must accept an integer N as the input. Need to print the largest digit     from the given number.\n",
    "#   Example :\n",
    "#     Input1: 6 9 1 8\n",
    "#     Output:9\n",
    "#     Input2: 1 7 8 5 1 1\n",
    "#     Output:8\n",
    "def large():\n",
    "    n=(input('enter a num'))\n",
    "    x=list(n)\n",
    "    x.sort()\n",
    "    print(x[-1])\n",
    "large()\n",
    "\n"
   ]
  },
  {
   "cell_type": "code",
   "execution_count": null,
   "metadata": {},
   "outputs": [],
   "source": [
    "# 2.The program must accept an integer N as the input. Need to print the largest digit     from the given number.\n",
    "#   Example :\n",
    "#     Input1: 6 9 1 8\n",
    "#     Output:9\n",
    "#     Input2: 1 7 8 5 1 1\n",
    "#     Output:8\n",
    "\n",
    "n1=int(input('enter number'))\n",
    "n2=0\n",
    "while n1>0:\n",
    "   rem=n1%10\n",
    "247   if n2<rem:\n",
    "       n2=rem\n",
    "   n1=n1//10\n",
    "print(n2) \n"
   ]
  },
  {
   "cell_type": "code",
   "execution_count": 8,
   "metadata": {},
   "outputs": [],
   "source": []
  },
  {
   "cell_type": "code",
   "execution_count": null,
   "metadata": {},
   "outputs": [],
   "source": [
    "# 4. Write a user-defined function to find factorial of a number in all the possible ways.za\n",
    "n1=int(input('enter number'))\n",
    "fact=1\n",
    "i=1\n",
    "while(i<=n1):\n",
    "    fact=fact*i\n",
    "    i=i+1\n",
    "print(fact)\n"
   ]
  },
  {
   "cell_type": "code",
   "execution_count": 1,
   "metadata": {},
   "outputs": [
    {
     "name": "stdout",
     "output_type": "stream",
     "text": [
      "enter number150\n",
      "no\n"
     ]
    }
   ],
   "source": [
    "#  5.The program must accept an integer N as the input. Need to print the output in the following manner.\n",
    "#   Example Input/Output 1:\n",
    "#     Input1:145\n",
    "#     Output:yes\n",
    "#     Input2:123\n",
    "#     Output:no\n",
    "#  Explanation : \n",
    "#  Individual digit factorial sum is the same as the original number then need to print   YES otherwise  need to print NO\n",
    "#  #145 - 1! + 4! + 5! - 1 + 24 + 120 -- 145 -- YES\n",
    "#  #123 - 1! + 2! + 3! - 1 + 2 + 6 - 9 -- NO\n",
    "import math\n",
    "num=int(input('enter number'))\n",
    "temp=num\n",
    "n=0\n",
    "while num>0:\n",
    "   rem=num%10\n",
    "   x=math.factorial(rem)\n",
    "   n=n+x\n",
    "   num=num//10\n",
    "if temp==n:\n",
    "   print('yes')\n",
    "else:\n",
    "   print('no')\n"
   ]
  },
  {
   "cell_type": "code",
   "execution_count": 4,
   "metadata": {},
   "outputs": [
    {
     "name": "stdout",
     "output_type": "stream",
     "text": [
      "enter a number1889\n",
      "16\n"
     ]
    }
   ],
   "source": [
    "# 3. The program must accept an integer N as the input. Need to print the output in the following manner.\n",
    "#   Boundary Condition(s):\n",
    "#     Example:\n",
    "#       Input1: 1889\n",
    "#       Output:16\n",
    "#       Input2: 19872\n",
    "# #       Output:10\n",
    "\n",
    "num=int(input('enter a number'))\n",
    "n2=0\n",
    "while num>0:\n",
    "   rem=num%10\n",
    "   if rem%2==0:\n",
    "       n2=n2+rem\n",
    "   num=num//10\n",
    "print(n2)\n",
    "           "
   ]
  },
  {
   "cell_type": "code",
   "execution_count": null,
   "metadata": {},
   "outputs": [],
   "source": []
  }
 ],
 "metadata": {
  "kernelspec": {
   "display_name": "Python 3",
   "language": "python",
   "name": "python3"
  },
  "language_info": {
   "codemirror_mode": {
    "name": "ipython",
    "version": 3
   },
   "file_extension": ".py",
   "mimetype": "text/x-python",
   "name": "python",
   "nbconvert_exporter": "python",
   "pygments_lexer": "ipython3",
   "version": "3.7.4"
  }
 },
 "nbformat": 4,
 "nbformat_minor": 2
}
