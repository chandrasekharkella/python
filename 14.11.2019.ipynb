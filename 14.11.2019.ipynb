{
 "cells": [
  {
   "cell_type": "markdown",
   "metadata": {},
   "source": [
    "# Print  all the even numbers in the given range"
   ]
  },
  {
   "cell_type": "code",
   "execution_count": 3,
   "metadata": {},
   "outputs": [
    {
     "name": "stdout",
     "output_type": "stream",
     "text": [
      "enter a gven num20\n",
      "2\n",
      "4\n",
      "6\n",
      "8\n",
      "10\n",
      "12\n",
      "14\n",
      "16\n",
      "18\n"
     ]
    }
   ],
   "source": [
    "num=int(input('enter a gven num'))\n",
    "for i in range(1,num):\n",
    "    if i%2==0:"
   ]
  },
  {
   "cell_type": "markdown",
   "metadata": {},
   "source": [
    "# 2. Print all the odd numbers in the given range "
   ]
  },
  {
   "cell_type": "code",
   "execution_count": 4,
   "metadata": {},
   "outputs": [
    {
     "name": "stdout",
     "output_type": "stream",
     "text": [
      "enter a gven num20\n",
      "1\n",
      "3\n",
      "5\n",
      "7\n",
      "9\n",
      "11\n",
      "13\n",
      "15\n",
      "17\n",
      "19\n"
     ]
    }
   ],
   "source": [
    "num=int(input('enter a gven num'))\n",
    "for i in range(1,num):\n",
    "    if i%2!=0:\n",
    "        print(i)"
   ]
  },
  {
   "cell_type": "markdown",
   "metadata": {},
   "source": [
    "# Print the sum of even numbers in the given range"
   ]
  },
  {
   "cell_type": "code",
   "execution_count": null,
   "metadata": {},
   "outputs": [],
   "source": [
    "\n",
    "n=int(input('enter starting  num'))\n",
    "x=int(input('enter ending  num'))\n",
    "sum=0\n",
    "while n<=x:\n",
    "    if n%2==0:\n",
    "        sum=sum+n\n",
    "    n+=1\n",
    "print(sum)    \n",
    "    "
   ]
  },
  {
   "cell_type": "markdown",
   "metadata": {},
   "source": [
    "# Print the digits of the given number\n"
   ]
  },
  {
   "cell_type": "code",
   "execution_count": 12,
   "metadata": {},
   "outputs": [
    {
     "name": "stdout",
     "output_type": "stream",
     "text": [
      "enter any num12345\n",
      "5\n",
      "4\n",
      "3\n",
      "2\n",
      "1\n"
     ]
    }
   ],
   "source": [
    "num=int(input('enter any num'))\n",
    "i=num\n",
    "digit=0\n",
    "while i>0:\n",
    "    digit=i%10\n",
    "    print(digit)\n",
    "    i=i//10\n",
    "    "
   ]
  },
  {
   "cell_type": "code",
   "execution_count": 9,
   "metadata": {},
   "outputs": [
    {
     "name": "stdout",
     "output_type": "stream",
     "text": [
      "emter any num8074959586\n",
      "8 0 7 4 9 5 9 5 8 6 "
     ]
    }
   ],
   "source": [
    "num=(input('emter any num'))\n",
    "for i in num:\n",
    "    print(i,end=())"
   ]
  },
  {
   "cell_type": "markdown",
   "metadata": {},
   "source": [
    "# Multiplicative table for the given number"
   ]
  },
  {
   "cell_type": "code",
   "execution_count": 11,
   "metadata": {},
   "outputs": [
    {
     "name": "stdout",
     "output_type": "stream",
     "text": [
      "enter a num5\n",
      "5 x 1 = 5\n",
      "5 x 2 = 10\n",
      "5 x 3 = 15\n",
      "5 x 4 = 20\n",
      "5 x 5 = 25\n",
      "5 x 6 = 30\n",
      "5 x 7 = 35\n",
      "5 x 8 = 40\n",
      "5 x 9 = 45\n",
      "5 x 10 = 50\n",
      "5 x 11 = 55\n",
      "5 x 12 = 60\n",
      "5 x 13 = 65\n",
      "5 x 14 = 70\n",
      "5 x 15 = 75\n",
      "5 x 16 = 80\n",
      "5 x 17 = 85\n",
      "5 x 18 = 90\n",
      "5 x 19 = 95\n"
     ]
    }
   ],
   "source": [
    "n=int(input('enter a num'))\n",
    "for i in range(1,20):\n",
    "    print(n,'x',i,'=',n*i)\n"
   ]
  },
  {
   "cell_type": "markdown",
   "metadata": {},
   "source": [
    "# 6. In the given range:\n",
    "  #    If number is only divisible by 3 print fizz\n",
    "  #    If number is divisible by 5 print buzz\n",
    "  #    If number is divisible by 3 and 5 print fizzbuzz\n"
   ]
  },
  {
   "cell_type": "code",
   "execution_count": 14,
   "metadata": {},
   "outputs": [
    {
     "name": "stdout",
     "output_type": "stream",
     "text": [
      "enter a number20\n",
      "1\n",
      "2\n",
      "fizz\n",
      "4\n",
      "buzz\n",
      "fizz\n",
      "7\n",
      "8\n",
      "fizz\n",
      "buzz\n",
      "11\n",
      "fizz\n",
      "13\n",
      "14\n",
      "fizzbuzz\n",
      "16\n",
      "17\n",
      "fizz\n",
      "19\n",
      "buzz\n"
     ]
    }
   ],
   "source": [
    "i=0\n",
    "j=int(input(\"enter a number\"))\n",
    "for i in range(1,j+1):\n",
    "    if i%3==0 and i%5==0:\n",
    "        print(\"fizzbuzz\")\n",
    "    elif i%3==0:\n",
    "        print(\"fizz\")\n",
    "    elif i%5==0:\n",
    "        print(\"buzz\")\n",
    "    else:\n",
    "        print(i)\n",
    "i=i+1"
   ]
  },
  {
   "cell_type": "markdown",
   "metadata": {},
   "source": [
    "# Read the input as string and Output will followed\n",
    "#Example #1:\n",
    "#Input : orange \n",
    "#Output : puboif\n"
   ]
  },
  {
   "cell_type": "code",
   "execution_count": 10,
   "metadata": {},
   "outputs": [
    {
     "name": "stdout",
     "output_type": "stream",
     "text": [
      "puboif\n"
     ]
    }
   ],
   "source": [
    "str1='orange'\n",
    "str2=''\n",
    "for ch in str1:\n",
    "    if ch in ('a','e','i','o','u'):\n",
    "        str2=str2+(chr(ord(ch)+1))\n",
    "    else:\n",
    "        if ord(ch)>=98 and ord(ch)<=100:\n",
    "            str2=str2+'e'\n",
    "        elif ord(ch)>=102 and ord(ch)<=104:\n",
    "            str2=str2+'i'\n",
    "        elif ord(ch)>=106 and ord(ch)<=110:\n",
    "            str2=str2+'o'\n",
    "        elif ord(ch)>=112 and ord(ch)<=116:\n",
    "            str2=str2+'u'\n",
    "print(str2)\n",
    "    "
   ]
  },
  {
   "cell_type": "code",
   "execution_count": 12,
   "metadata": {},
   "outputs": [],
   "source": [
    "# Read the input as string and Output will be alternate words in lower case\n",
    "# Example #1:\n",
    "# Input : Learn Python Programming EASy\n",
    "# Output : python easy\n",
    "    \n"
   ]
  },
  {
   "cell_type": "code",
   "execution_count": 8,
   "metadata": {},
   "outputs": [
    {
     "name": "stdout",
     "output_type": "stream",
     "text": [
      "python easy "
     ]
    }
   ],
   "source": [
    "a=\"Learn Python Programming EASy\"\n",
    "b=a.split()\n",
    "for i in range(1,len(b),2):\n",
    "    print(b[i].lower(),end=\" \")"
   ]
  },
  {
   "cell_type": "code",
   "execution_count": 17,
   "metadata": {},
   "outputs": [],
   "source": [
    "def addion(*b):\n",
    "    sum=0\n",
    "    for i in b:\n",
    "        sum=sum+i\n",
    "    return sum\n",
    "addion(1,2,)"
   ]
  },
  {
   "cell_type": "code",
   "execution_count": null,
   "metadata": {},
   "outputs": [],
   "source": []
  },
  {
   "cell_type": "markdown",
   "metadata": {},
   "source": [
    "# Read the input as string and Print the Output as Only even digit sum\n",
    "# Example #1:\n",
    "# Input : Applc18iation89\n",
    "# Output : 16 (8+8)\n"
   ]
  },
  {
   "cell_type": "code",
   "execution_count": 31,
   "metadata": {},
   "outputs": [
    {
     "name": "stdout",
     "output_type": "stream",
     "text": [
      "enter a namechandu\n",
      "yes\n"
     ]
    }
   ],
   "source": [
    "\n",
    "list=['chandu','ramesh','naresh']\n",
    "name=input('enter a name')\n",
    "if (name in list):\n",
    "    print('yes')\n",
    "else:\n",
    "    print('no')"
   ]
  },
  {
   "cell_type": "code",
   "execution_count": 6,
   "metadata": {},
   "outputs": [
    {
     "name": "stdout",
     "output_type": "stream",
     "text": [
      "How manay students u want= 5\n",
      "age= 12\n",
      "age= 25\n",
      "age= 22\n",
      "age= 10\n",
      "age= 9\n"
     ]
    },
    {
     "data": {
      "text/plain": [
       "2"
      ]
     },
     "execution_count": 6,
     "metadata": {},
     "output_type": "execute_result"
    }
   ],
   "source": [
    "# Print the count of the students whose age is >20:\n",
    "\n",
    "\n",
    "def age(a):\n",
    "    l=[]\n",
    "    count=0\n",
    "    for i in range(1,a+1):\n",
    "        b=int(input('age= '))\n",
    "        l.append(b)\n",
    "    l\n",
    "    for i in l:\n",
    "        if i>20:\n",
    "            count=count+1\n",
    "    return count\n",
    "a=int(input('How manay students u want= '))\n",
    "age(a)"
   ]
  },
  {
   "cell_type": "code",
   "execution_count": null,
   "metadata": {},
   "outputs": [],
   "source": []
  }
 ],
 "metadata": {
  "kernelspec": {
   "display_name": "Python 3",
   "language": "python",
   "name": "python3"
  },
  "language_info": {
   "codemirror_mode": {
    "name": "ipython",
    "version": 3
   },
   "file_extension": ".py",
   "mimetype": "text/x-python",
   "name": "python",
   "nbconvert_exporter": "python",
   "pygments_lexer": "ipython3",
   "version": "3.7.4"
  }
 },
 "nbformat": 4,
 "nbformat_minor": 2
}
