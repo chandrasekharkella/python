{
 "cells": [
  {
   "cell_type": "code",
   "execution_count": 8,
   "metadata": {},
   "outputs": [],
   "source": [
    "# 1. Function to create a file and write to the file\n",
    "def file():\n",
    "    with open(\"chandu1.txt\",mode=\"w\") as f:\n",
    "        \n",
    "        f.write('hi chandu')\n",
    "        f.write('hello chnadu ur done a good job')\n",
    "file()    "
   ]
  },
  {
   "cell_type": "code",
   "execution_count": 7,
   "metadata": {},
   "outputs": [
    {
     "name": "stdout",
     "output_type": "stream",
     "text": [
      " enter file namec.txt\n",
      " enter a modew\n"
     ]
    }
   ],
   "source": [
    "def file(name,mode):\n",
    "    with open(name,mode) as k:\n",
    "        \n",
    "        k.write(' hii chandu')\n",
    "name=input(' enter file name')\n",
    "mode=input(' enter a mode')\n",
    "file(name,mode)"
   ]
  },
  {
   "cell_type": "code",
   "execution_count": 15,
   "metadata": {},
   "outputs": [
    {
     "name": "stdout",
     "output_type": "stream",
     "text": [
      " enter file namec.txt\n",
      " enter a moder\n",
      "[' hii chandu']\n"
     ]
    }
   ],
   "source": [
    "# 2. Function to read of the file\n",
    "def read1(name,mode):\n",
    "    with open(name,mode) as k:\n",
    "        a= k.readlines()\n",
    "        print(a)\n",
    "        \n",
    "name=input(' enter file name')\n",
    "mode=input(' enter a mode')\n",
    "read1(name,mode)        "
   ]
  },
  {
   "cell_type": "code",
   "execution_count": 20,
   "metadata": {},
   "outputs": [
    {
     "name": "stdout",
     "output_type": "stream",
     "text": [
      " enter file namec.txt\n"
     ]
    },
    {
     "data": {
      "text/plain": [
       "2"
      ]
     },
     "execution_count": 20,
     "metadata": {},
     "output_type": "execute_result"
    }
   ],
   "source": [
    "#  Word Count Program-Count the number of words present in the text file\n",
    "\n",
    "def read1(name):\n",
    "    count=0\n",
    "    with open(name,'r') as k:\n",
    "        a= k.read()\n",
    "        x=a.split()\n",
    "        for i in x:\n",
    "            count=count+1\n",
    "        return count\n",
    "name=input(' enter file name')\n",
    "read1(name)   "
   ]
  },
  {
   "cell_type": "code",
   "execution_count": 22,
   "metadata": {},
   "outputs": [
    {
     "name": "stdout",
     "output_type": "stream",
     "text": [
      " enter file namec.txt\n"
     ]
    },
    {
     "data": {
      "text/plain": [
       "11"
      ]
     },
     "execution_count": 22,
     "metadata": {},
     "output_type": "execute_result"
    }
   ],
   "source": [
    "# Count the number of characters from the given file\n",
    "def read1(name):\n",
    "    count=0\n",
    "    with open(name,'r') as k:\n",
    "        a= k.read()\n",
    "        for i in a:\n",
    "            count=count+1\n",
    "        return count\n",
    "name=input(' enter file name')\n",
    "read1(name)   "
   ]
  },
  {
   "cell_type": "code",
   "execution_count": 23,
   "metadata": {},
   "outputs": [
    {
     "name": "stdout",
     "output_type": "stream",
     "text": [
      " enter file namec.txt\n"
     ]
    },
    {
     "data": {
      "text/plain": [
       "1"
      ]
     },
     "execution_count": 23,
     "metadata": {},
     "output_type": "execute_result"
    }
   ],
   "source": [
    "# . Function to find the no of lines in the input file\n",
    "#        Input -- filename(file2.txt)\n",
    "#        Output -- No of Lines(12)\n",
    "def read1(name):\n",
    "    count=0\n",
    "    with open(name,'r') as k:\n",
    "        a= k.readlines()\n",
    "        for i in a:\n",
    "            count=count+1\n",
    "        return count\n",
    "name=input(' enter file name')\n",
    "read1(name)   "
   ]
  },
  {
   "cell_type": "code",
   "execution_count": 35,
   "metadata": {},
   "outputs": [
    {
     "name": "stdout",
     "output_type": "stream",
     "text": [
      " enter file namec.txt\n",
      "lower case  hii chandu\n",
      "upper case \n"
     ]
    }
   ],
   "source": [
    "#  Function to print the Upper and Lower characters from the given file\n",
    "def read1(name):\n",
    "    l1=''\n",
    "    l2=''\n",
    "    with open(name,'r') as k:\n",
    "        a= k.read()\n",
    "        for i in a:\n",
    "            if i.isupper()==True:\n",
    "                l1=l1+i\n",
    "            else:\n",
    "                l2=l2+i\n",
    "    return l1,l2             \n",
    "name=input(' enter file name')\n",
    "x,y=read1(name)\n",
    "print( \"lower case\",y)\n",
    "print( \"upper case\",x)"
   ]
  },
  {
   "cell_type": "markdown",
   "metadata": {},
   "source": [
    "# 1. The program must accept an integer N the input. The program must print the desired pattern as shown in the Example Input/Output section.\n",
    "\n",
    "# Input Format:\n",
    "\n",
    "# The first line contains the value of N.\n",
    "\n",
    "# Output Format:\n",
    "\n",
    "# The list of lines containing the desired pattern as shown in the Example Input/Output sections.\n",
    "\n",
    "# Example Input/Output 1:\n",
    "\n",
    "# Input:\n",
    "\n",
    "# 41325\n",
    "\n",
    "# Output:\n",
    "\n",
    "# |****\n",
    "\n",
    "# |*\n",
    "\n",
    "# |***\n",
    "\n",
    "# |**\n",
    "\n",
    "# |*****\n",
    "\n",
    "# Example Input/Output 2:\n",
    "\n",
    "# Input:\n",
    "\n",
    "# 60710\n",
    "\n",
    "# Output:\n",
    "\n",
    "# |******\n",
    "\n",
    "# |\n",
    "\n",
    "# |*******\n",
    "\n",
    "# |*\n",
    "\n",
    "# |"
   ]
  },
  {
   "cell_type": "code",
   "execution_count": 3,
   "metadata": {},
   "outputs": [
    {
     "name": "stdout",
     "output_type": "stream",
     "text": [
      "enter a number1\n",
      "| *\n"
     ]
    }
   ],
   "source": [
    "n=int(input('enter a number'))\n",
    "l=[]\n",
    "while n>0:\n",
    "    a=n%10\n",
    "    l.append(a)\n",
    "    n=n//10\n",
    "b=l[::-1]\n",
    "for i in b:\n",
    "    print('|',('*'*i))\n",
    "      \n",
    "          \n"
   ]
  },
  {
   "cell_type": "code",
   "execution_count": 5,
   "metadata": {},
   "outputs": [
    {
     "name": "stdout",
     "output_type": "stream",
     "text": [
      " enter a namedf\n"
     ]
    },
    {
     "data": {
      "text/plain": [
       "'fd'"
      ]
     },
     "execution_count": 5,
     "metadata": {},
     "output_type": "execute_result"
    }
   ],
   "source": [
    "# 2.  Write a Python program that accepts a word from the user and reverse it. \n",
    "str=input(' enter a name')\n",
    "l=[]\n",
    "l1=[]\n",
    "for i in str:\n",
    "    l.append(i)\n",
    "    a=l[::-1]\n",
    "b=''.join(a)  \n",
    "b\n"
   ]
  },
  {
   "cell_type": "code",
   "execution_count": 2,
   "metadata": {},
   "outputs": [
    {
     "name": "stdout",
     "output_type": "stream",
     "text": [
      "enter stringabcd abcf\n",
      "f c b a   d c b a\n"
     ]
    }
   ],
   "source": [
    "s=input('enter string')\n",
    "l=[]\n",
    "for i in s:\n",
    "    l.insert(0,i)\n",
    "\n",
    "print(*l)\n"
   ]
  },
  {
   "cell_type": "code",
   "execution_count": 1,
   "metadata": {},
   "outputs": [
    {
     "name": "stdout",
     "output_type": "stream",
     "text": [
      "0\n",
      "1\n",
      "2\n",
      "4\n",
      "5\n",
      "enter stringabcd\n",
      "d c b a\n"
     ]
    }
   ],
   "source": [
    "#  Write a Python program that prints all the numbers from 0 to 6 except 3 and 6. \n",
    "\n",
    "for i in range(0,7):\n",
    "    \n",
    "    if i==3 or i==6:\n",
    "        pass\n",
    "    else:\n",
    "        print(i)\n",
    "s=input('enter string')\n",
    "l=[]\n",
    "for i in s:\n",
    "    l.insert(0,i)\n",
    "\n",
    "print(*l)\n",
    "\n",
    "\n",
    "\n",
    "\n"
   ]
  },
  {
   "cell_type": "code",
   "execution_count": null,
   "metadata": {},
   "outputs": [],
   "source": [
    "#   Write a Python program that accepts a string and calculate the number of digits and letters. \n",
    "#          Input: Python 3.6\n",
    "#         Expected Output :\n",
    "#                   Letters 6\n",
    "#                   Digits 2 "
   ]
  },
  {
   "cell_type": "code",
   "execution_count": 11,
   "metadata": {},
   "outputs": [
    {
     "name": "stdout",
     "output_type": "stream",
     "text": [
      " enter a strersdfghjg132.\n",
      " letters is =  9\n",
      " digits is =  4\n"
     ]
    }
   ],
   "source": [
    "str=input(' enter a str')\n",
    "c1=0\n",
    "c2=0\n",
    "for i in str:\n",
    "    if i.isalpha()==True:\n",
    "        c1=c1+1\n",
    "    else:\n",
    "        c2=c2+1\n",
    "print(' letters is = ',c1)\n",
    "print(' digits is = ',c2)\n",
    "    "
   ]
  },
  {
   "cell_type": "code",
   "execution_count": null,
   "metadata": {},
   "outputs": [],
   "source": [
    "# 5. Write a Python program to check the validity of password input by users. \n",
    "# Validation :\n",
    "# At least 1 letter between [a-z] and 1 letter between [A-Z].\n",
    "# At least 1 number between [0-9].\n",
    "# At least 1 character from [$#@].\n",
    "# Minimum length 6 characters.\n",
    "# Maximum length 16 characters"
   ]
  },
  {
   "cell_type": "code",
   "execution_count": null,
   "metadata": {},
   "outputs": [],
   "source": [
    "# . Write a Python program to check a string represent an integer or not.\n",
    "#    Expected Output:\n",
    "#       Input a string: Python                                                  \n",
    "#       The string is not an integer.  \n",
    "name=input('enter a string')\n",
    "if name.isalpha==True:\n",
    "    print('it is a string',)\n",
    "else:\n",
    "     print(' this string is not a iniger',)\n",
    "    \n",
    "    \n"
   ]
  },
  {
   "cell_type": "code",
   "execution_count": 6,
   "metadata": {},
   "outputs": [
    {
     "name": "stdout",
     "output_type": "stream",
     "text": [
      "enter stringSEDRGTHYJHUK456\n",
      "interger\n"
     ]
    }
   ],
   "source": [
    "s=input('enter string')\n",
    "c=0\n",
    "for i in s:\n",
    "   if ord(i)>=48 and ord(i)<=57:\n",
    "       c=c+1\n",
    "   else:\n",
    "       pass\n",
    "if c>1:\n",
    "   print('interger')\n",
    "else:\n",
    "   print('string')\n",
    "     "
   ]
  },
  {
   "cell_type": "code",
   "execution_count": null,
   "metadata": {},
   "outputs": [],
   "source": []
  }
 ],
 "metadata": {
  "kernelspec": {
   "display_name": "Python 3",
   "language": "python",
   "name": "python3"
  },
  "language_info": {
   "codemirror_mode": {
    "name": "ipython",
    "version": 3
   },
   "file_extension": ".py",
   "mimetype": "text/x-python",
   "name": "python",
   "nbconvert_exporter": "python",
   "pygments_lexer": "ipython3",
   "version": "3.7.4"
  }
 },
 "nbformat": 4,
 "nbformat_minor": 2
}
