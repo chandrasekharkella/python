{
 "cells": [
  {
   "cell_type": "code",
   "execution_count": 1,
   "metadata": {},
   "outputs": [
    {
     "data": {
      "text/plain": [
       "['False',\n",
       " 'None',\n",
       " 'True',\n",
       " 'and',\n",
       " 'as',\n",
       " 'assert',\n",
       " 'async',\n",
       " 'await',\n",
       " 'break',\n",
       " 'class',\n",
       " 'continue',\n",
       " 'def',\n",
       " 'del',\n",
       " 'elif',\n",
       " 'else',\n",
       " 'except',\n",
       " 'finally',\n",
       " 'for',\n",
       " 'from',\n",
       " 'global',\n",
       " 'if',\n",
       " 'import',\n",
       " 'in',\n",
       " 'is',\n",
       " 'lambda',\n",
       " 'nonlocal',\n",
       " 'not',\n",
       " 'or',\n",
       " 'pass',\n",
       " 'raise',\n",
       " 'return',\n",
       " 'try',\n",
       " 'while',\n",
       " 'with',\n",
       " 'yield']"
      ]
     },
     "execution_count": 1,
     "metadata": {},
     "output_type": "execute_result"
    }
   ],
   "source": [
    "['False', 'None', 'True', 'and', 'as', 'assert', 'async', 'await', 'break', 'class', 'continue',\n",
    " 'def', 'del', 'elif', 'else', 'except', 'finally', 'for', 'from', 'global', 'if', 'import', 'in',\n",
    " 'is', 'lambda', 'nonlocal', 'not', 'or', 'pass', 'raise', 'return', 'try', 'while', 'with', 'yield']"
   ]
  },
  {
   "cell_type": "code",
   "execution_count": 1,
   "metadata": {},
   "outputs": [
    {
     "name": "stdout",
     "output_type": "stream",
     "text": [
      "sum of even num is  20\n",
      "sum of odd num is  25\n"
     ]
    }
   ],
   "source": [
    "#to finn the sum of even numbers and odd numbers in range\n",
    "list1=[1,2,3,4,5,6,7,8,9]\n",
    "def function1(list1):\n",
    "    even=[]\n",
    "    odd=[]\n",
    "    for i in list1:\n",
    "        if i%2==0:\n",
    "            even.append(i)\n",
    "        else:\n",
    "            odd.append(i)\n",
    "    print(\"sum of even num is \",sum(even))\n",
    "    print(\"sum of odd num is \",sum(odd))\n",
    "               \n",
    "function1(list1)   \n",
    "           \n",
    "            "
   ]
  },
  {
   "cell_type": "code",
   "execution_count": 5,
   "metadata": {},
   "outputs": [
    {
     "name": "stdout",
     "output_type": "stream",
     "text": [
      "enter a number20\n",
      "0 1 1 2 3 5 8 13 21 34 55 89 144 233 377 610 987 1597 2584 4181 "
     ]
    }
   ],
   "source": [
    "#fibnocci seriessn\n",
    "fn=0\n",
    "sn=1\n",
    "num=int(input('enter a number'))\n",
    "print(fn,sn,end= \" \")\n",
    "for i in range (3,num+1):\n",
    "    next=fn+sn\n",
    "    print(next,end=' ')\n",
    "    fn=sn\n",
    "    sn=next"
   ]
  },
  {
   "cell_type": "code",
   "execution_count": 8,
   "metadata": {},
   "outputs": [
    {
     "name": "stdout",
     "output_type": "stream",
     "text": [
      "3\n"
     ]
    }
   ],
   "source": [
    "#  how to find out the count of given nummer\n",
    "n=123\n",
    "count=0\n",
    "while n>0:\n",
    "    count=count+1\n",
    "    n= n//10\n",
    "print(count)    \n",
    "        "
   ]
  },
  {
   "cell_type": "code",
   "execution_count": null,
   "metadata": {},
   "outputs": [],
   "source": [
    "# given number is palindrome or not\n",
    "num=int(input('enter a num'))\n",
    "temp=num\n",
    "rev=0\n",
    "while num>0:\n",
    "    rem=num%10\n",
    "    rev=(rev*10)+rem\n",
    "    num=num//10\n",
    "if temp==rev:\n",
    "    print(\"paliidrome\")\n",
    "else:\n",
    "    print('not palindrome')"
   ]
  },
  {
   "cell_type": "code",
   "execution_count": 1,
   "metadata": {},
   "outputs": [
    {
     "name": "stdout",
     "output_type": "stream",
     "text": [
      "enter number153\n",
      "arm\n"
     ]
    }
   ],
   "source": [
    "# find the armstrong number\n",
    "num=int(input('enter number'))\n",
    "temp=num\n",
    "length=len(str(num))\n",
    "arm=0\n",
    "while num>0:\n",
    "   rem=num%10\n",
    "   arm=arm+(rem**length)\n",
    "   num=num//10\n",
    "\n",
    "if temp==arm:\n",
    "   print('arm')\n",
    "else:\n",
    "   print('notarm')"
   ]
  },
  {
   "cell_type": "code",
   "execution_count": 3,
   "metadata": {},
   "outputs": [
    {
     "name": "stdout",
     "output_type": "stream",
     "text": [
      "enter a number 10\n",
      "385\n"
     ]
    }
   ],
   "source": [
    "# to find the sum of squres of natural number\n",
    "n=int(input('enter a number '))\n",
    "count=0\n",
    "squres=0\n",
    "for i in range(0,n+1):\n",
    "    squres=i*i\n",
    "    count=count+squres\n",
    "print(count)    \n",
    "    "
   ]
  },
  {
   "cell_type": "code",
   "execution_count": 5,
   "metadata": {},
   "outputs": [
    {
     "name": "stdout",
     "output_type": "stream",
     "text": [
      "enter a given num6\n",
      "perfact num\n"
     ]
    }
   ],
   "source": [
    "#TO find the perfect number\n",
    "n= int(input('enter a given num'))\n",
    "sum1=0\n",
    "for i in range(1,n):\n",
    "    if n%i==0:\n",
    "        sum1=sum1+i\n",
    "if sum1==n:\n",
    "    print('perfact num')\n",
    "else:\n",
    "    print('not aperfact num')"
   ]
  },
  {
   "cell_type": "code",
   "execution_count": 6,
   "metadata": {},
   "outputs": [
    {
     "name": "stdout",
     "output_type": "stream",
     "text": [
      "morning,\n"
     ]
    }
   ],
   "source": [
    "# find the highest lenthh of the given dtring\n",
    "# inpu:Good moring good time\n",
    "# output:moring(Heghest lenth of the wors)    \n",
    "s='good morning, good time'\n",
    "a=s.split()\n",
    "b=sorted(a,key=len)\n",
    "print(b[-1])\n"
   ]
  },
  {
   "cell_type": "code",
   "execution_count": null,
   "metadata": {},
   "outputs": [],
   "source": []
  }
 ],
 "metadata": {
  "kernelspec": {
   "display_name": "Python 3",
   "language": "python",
   "name": "python3"
  },
  "language_info": {
   "codemirror_mode": {
    "name": "ipython",
    "version": 3
   },
   "file_extension": ".py",
   "mimetype": "text/x-python",
   "name": "python",
   "nbconvert_exporter": "python",
   "pygments_lexer": "ipython3",
   "version": "3.7.4"
  }
 },
 "nbformat": 4,
 "nbformat_minor": 2
}
