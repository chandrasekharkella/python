{
 "cells": [
  {
   "cell_type": "code",
   "execution_count": 7,
   "metadata": {},
   "outputs": [
    {
     "data": {
      "text/plain": [
       "4"
      ]
     },
     "execution_count": 7,
     "metadata": {},
     "output_type": "execute_result"
    }
   ],
   "source": [
    "l=[1,2,3,4,5]\n",
    "l[3]\n",
    "#indexing of list"
   ]
  },
  {
   "cell_type": "code",
   "execution_count": null,
   "metadata": {},
   "outputs": [],
   "source": [
    "#list methods\n",
    "append()\n",
    "clear()\n",
    "copy()\n",
    " count()\n",
    "extend()\n",
    "index()\n",
    "insert()\n",
    "pop()\n",
    "remove()\n",
    "reverse()\n",
    "sort()"
   ]
  },
  {
   "cell_type": "code",
   "execution_count": 12,
   "metadata": {},
   "outputs": [
    {
     "name": "stdout",
     "output_type": "stream",
     "text": [
      "[1, 2, 3, 4, 5, 6]\n"
     ]
    }
   ],
   "source": [
    "l=[1,2,3,4,5]\n",
    "l.append(6)\n",
    "print(l)"
   ]
  },
  {
   "cell_type": "code",
   "execution_count": 14,
   "metadata": {},
   "outputs": [
    {
     "name": "stdout",
     "output_type": "stream",
     "text": [
      "[1, 2, 3, 'sri', 5, 'chandu']\n"
     ]
    }
   ],
   "source": [
    "l=[1,2,3,'sri',5]\n",
    "l.append('chandu')\n",
    "print(l)"
   ]
  },
  {
   "cell_type": "code",
   "execution_count": 18,
   "metadata": {},
   "outputs": [
    {
     "data": {
      "text/plain": [
       "1"
      ]
     },
     "execution_count": 18,
     "metadata": {},
     "output_type": "execute_result"
    }
   ],
   "source": [
    "l=[1,2,3,'sri',5]\n",
    "l.count(3)"
   ]
  },
  {
   "cell_type": "code",
   "execution_count": 19,
   "metadata": {},
   "outputs": [
    {
     "name": "stdout",
     "output_type": "stream",
     "text": [
      "[]\n"
     ]
    }
   ],
   "source": [
    "l=[1,2,3,'sri',5]\n",
    "l.clear()\n",
    "print(l)"
   ]
  },
  {
   "cell_type": "code",
   "execution_count": 25,
   "metadata": {},
   "outputs": [
    {
     "name": "stdout",
     "output_type": "stream",
     "text": [
      "[1, 2, 3, 'sri', 5]\n"
     ]
    }
   ],
   "source": [
    "l=[1,2,3,'sri',5]\n",
    "l.copy()\n",
    "l3=l.copy()\n",
    "print(l3)"
   ]
  },
  {
   "cell_type": "markdown",
   "metadata": {},
   "source": [
    "l1=[1,2,3,4]\n",
    "l2=[5,6,8,9]\n",
    "l1.extend(l2)\n",
    "print(l1)"
   ]
  },
  {
   "cell_type": "markdown",
   "metadata": {},
   "source": [
    "# accept three values as input from the user,you need to check whether student got mimimum marks(30)in all the subjects,if not print fail.if he gets mimum marks then find averge..... if averege is>75=>print grede as A.if the average is between 60-75,print the grede as B. if the averge is between 30-60,print as greadeC,if <30 it as fail\n"
   ]
  },
  {
   "cell_type": "code",
   "execution_count": 6,
   "metadata": {},
   "outputs": [
    {
     "name": "stdout",
     "output_type": "stream",
     "text": [
      "enter sub1 marks35\n",
      "enter sub2 marks35\n",
      "enter sub3 marks15\n",
      "fail\n"
     ]
    }
   ],
   "source": [
    "a1=int(input(\"enter sub1 marks\"))\n",
    "a2=int(input(\"enter sub2 marks\"))\n",
    "a3=int(input(\"enter sub3 marks\"))\n",
    "avg=(a1+a2+a3)/3 \n",
    "if a1 and a2 and a3 <30:\n",
    "    print(\"fail\")\n",
    "elif avg>75:\n",
    "    print(\"grade A\")\n",
    "elif avg>=60 or avg>=75:\n",
    "    print(\"grade B\")\n",
    "elif avg>=30 or avg<60:\n",
    "    print(\"grade C\")\n",
    "else:\n",
    "    print(\"fail\")\n",
    "    \n"
   ]
  },
  {
   "cell_type": "code",
   "execution_count": 12,
   "metadata": {},
   "outputs": [
    {
     "name": "stdout",
     "output_type": "stream",
     "text": [
      "enter a number9\n",
      "odd\n"
     ]
    }
   ],
   "source": [
    "#  Check whether the given number is even or odd\n",
    "num=int(input(\"enter a number\"))\n",
    "if num%2==0:\n",
    "  print(\"even num\")\n",
    "else:\n",
    " print(\"odd\")"
   ]
  },
  {
   "cell_type": "markdown",
   "metadata": {},
   "source": [
    "### Accept age of a person and decide whether the candidate is eligible for     voting or not"
   ]
  },
  {
   "cell_type": "code",
   "execution_count": 14,
   "metadata": {},
   "outputs": [
    {
     "name": "stdout",
     "output_type": "stream",
     "text": [
      "enter a age18\n",
      "eligible for vote \n"
     ]
    }
   ],
   "source": [
    "age=int(input(\"enter a age\"))\n",
    "if age>=18:\n",
    " print(\"eligible for vote \")\n",
    "else:\n",
    "    print(\"not eligible\")"
   ]
  },
  {
   "cell_type": "markdown",
   "metadata": {},
   "source": [
    "# Check whether the given number is divible by 2 and 3 but not 4."
   ]
  },
  {
   "cell_type": "code",
   "execution_count": 18,
   "metadata": {},
   "outputs": [
    {
     "name": "stdout",
     "output_type": "stream",
     "text": [
      "enter a number6\n",
      "given num is devisble by 2and 3\n"
     ]
    }
   ],
   "source": [
    "num=int(input(\"enter a number\"))\n",
    "if num%2==0 and num%3==0 and num%4!=0:\n",
    "    print(\"given num is devisble by 2and 3\")\n",
    "else:\n",
    "    print(\"devisble by 4\")\n"
   ]
  },
  {
   "cell_type": "code",
   "execution_count": 17,
   "metadata": {},
   "outputs": [
    {
     "data": {
      "text/plain": [
       "'C:\\\\Users\\\\ADMIN'"
      ]
     },
     "execution_count": 17,
     "metadata": {},
     "output_type": "execute_result"
    }
   ],
   "source": [
    "pwd"
   ]
  },
  {
   "cell_type": "markdown",
   "metadata": {},
   "source": [
    "# find the largest num in given three numbers"
   ]
  },
  {
   "cell_type": "code",
   "execution_count": 19,
   "metadata": {},
   "outputs": [
    {
     "name": "stdout",
     "output_type": "stream",
     "text": [
      "enter a num35\n",
      "enter a second num65\n",
      "enter a third num30\n",
      "enter b is big\n"
     ]
    }
   ],
   "source": [
    "a=int(input(\"enter a num\"))\n",
    "b=int(input(\"enter a second num\"))\n",
    "c=int(input(\"enter a third num\"))\n",
    "if a>b and a>c:\n",
    "    print(\" A is big\")\n",
    "elif b>c and b>a:\n",
    "    print(\"enter b is big\")\n",
    "else:\n",
    "    print(\"c is big\")"
   ]
  },
  {
   "cell_type": "markdown",
   "metadata": {},
   "source": [
    "# check whether the given year is leap year or not."
   ]
  },
  {
   "cell_type": "code",
   "execution_count": 23,
   "metadata": {},
   "outputs": [
    {
     "name": "stdout",
     "output_type": "stream",
     "text": [
      "enter a year 2016\n",
      "it is leaf year\n"
     ]
    }
   ],
   "source": [
    "y=int(input(\"enter a year \"))\n",
    "if y%4==0 and y%100!=0 or y%400==0:\n",
    "    print (\"it is leaf year\")\n",
    "else:\n",
    "    print(\"not a leaf year\")"
   ]
  },
  {
   "cell_type": "markdown",
   "metadata": {},
   "source": [
    "# Read the string and char as input and print the number of occurances of charin the given string"
   ]
  },
  {
   "cell_type": "code",
   "execution_count": 32,
   "metadata": {},
   "outputs": [
    {
     "name": "stdout",
     "output_type": "stream",
     "text": [
      "enter a stringchaandu\n",
      "enter achsrtectr from given chaa\n",
      "2\n"
     ]
    }
   ],
   "source": [
    "str=input(\"enter a string\")\n",
    "\n",
    "chr=input(\"enter achsrtectr from given cha\")\n",
    "\n",
    "if chr not in str:\n",
    "    print(\"not in a string\")\n",
    "else:\n",
    "    print(str.count(chr))\n"
   ]
  },
  {
   "cell_type": "markdown",
   "metadata": {},
   "source": [
    "# Read the input as string and print the output in the following manner\n",
    "    Input: PythonProgrMMINg \n",
    "   Output: pYTHONpROGRmminG"
   ]
  },
  {
   "cell_type": "code",
   "execution_count": 39,
   "metadata": {},
   "outputs": [
    {
     "name": "stdout",
     "output_type": "stream",
     "text": [
      "enter a stringchaDUsEKHr\n",
      "CHAduSekhR\n"
     ]
    }
   ],
   "source": [
    "str=input(\"enter a string\")\n",
    "str1=\"\"\n",
    "for ch in str:\n",
    "    if ch.isupper()==True:\n",
    "        str1=str1+ch.lower()\n",
    "    else:\n",
    "        str1=str1+ch.upper()\n",
    "print(str1)\n",
    "     \n",
    "\n"
   ]
  },
  {
   "cell_type": "code",
   "execution_count": 36,
   "metadata": {},
   "outputs": [
    {
     "name": "stdout",
     "output_type": "stream",
     "text": [
      "chanduchandu\n"
     ]
    }
   ],
   "source": [
    "str=\"chandu\"\n",
    "print(str+str.lower())"
   ]
  },
  {
   "cell_type": "code",
   "execution_count": 38,
   "metadata": {},
   "outputs": [
    {
     "name": "stdout",
     "output_type": "stream",
     "text": [
      "kellachandu\n"
     ]
    }
   ],
   "source": [
    "str1=\"kella\"\n",
    "str1 +=str.lower()\n",
    "print(str1)"
   ]
  },
  {
   "cell_type": "markdown",
   "metadata": {},
   "source": [
    "# Test whether the string is palindrome or not:\n"
   ]
  },
  {
   "cell_type": "code",
   "execution_count": 42,
   "metadata": {},
   "outputs": [
    {
     "name": "stdout",
     "output_type": "stream",
     "text": [
      "enter a numberklk\n",
      "klk\n",
      "palimdrome\n"
     ]
    }
   ],
   "source": [
    "str=input(\"enter a number\")\n",
    "oput=\"\"\n",
    "temp=str\n",
    "length=len(str)-1\n",
    "while length>=0:\n",
    "    \n",
    "    out=out+str[length]\n",
    "    length=length-1\n",
    "print(out)  \n",
    "if temp==out:\n",
    "    print(\"palimdrome\")\n",
    "else:\n",
    "    print(\"not palimdrome\")"
   ]
  },
  {
   "cell_type": "markdown",
   "metadata": {},
   "source": [
    "# Convert string into list:\n",
    " Example: \n",
    "   Input: a= \"1 2 3 4 5 6\"\n",
    "   Output: [1, 2, 3, 4, 5, 6]"
   ]
  },
  {
   "cell_type": "code",
   "execution_count": 52,
   "metadata": {},
   "outputs": [
    {
     "name": "stdout",
     "output_type": "stream",
     "text": [
      "[1, 2, 3, 4, 5]\n"
     ]
    }
   ],
   "source": [
    "str=\"12345\"\n",
    "l=[]\n",
    "for i in str:\n",
    "    l.append(int(i))\n",
    "print(l)"
   ]
  },
  {
   "cell_type": "markdown",
   "metadata": {},
   "source": [
    "# .Print the second largest string from the list of string:\n",
    "  Input: a=[\"Python\",\"Java\",\"C\",\"programming\", \"Swift\"]\n"
   ]
  },
  {
   "cell_type": "code",
   "execution_count": 53,
   "metadata": {},
   "outputs": [
    {
     "data": {
      "text/plain": [
       "'C:\\\\Users\\\\ADMIN'"
      ]
     },
     "execution_count": 53,
     "metadata": {},
     "output_type": "execute_result"
    }
   ],
   "source": [
    "pwd:"
   ]
  },
  {
   "cell_type": "code",
   "execution_count": null,
   "metadata": {},
   "outputs": [],
   "source": []
  },
  {
   "cell_type": "code",
   "execution_count": null,
   "metadata": {},
   "outputs": [],
   "source": []
  }
 ],
 "metadata": {
  "kernelspec": {
   "display_name": "Python 3",
   "language": "python",
   "name": "python3"
  },
  "language_info": {
   "codemirror_mode": {
    "name": "ipython",
    "version": 3
   },
   "file_extension": ".py",
   "mimetype": "text/x-python",
   "name": "python",
   "nbconvert_exporter": "python",
   "pygments_lexer": "ipython3",
   "version": "3.7.4"
  }
 },
 "nbformat": 4,
 "nbformat_minor": 2
}
