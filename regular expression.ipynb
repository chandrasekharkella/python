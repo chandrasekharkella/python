{
 "cells": [
  {
   "cell_type": "markdown",
   "metadata": {},
   "source": [
    "# regular expressions"
   ]
  },
  {
   "cell_type": "code",
   "execution_count": null,
   "metadata": {},
   "outputs": [],
   "source": [
    "import re \n",
    "n=int(input('enter a number'))\n",
    "def twodigitsnumbermatch(n):\n",
    "    pattern=\"^[0-9]{3}$\"\n",
    "    n=str(n)\n",
    "    if re.match(pattern,n):\n",
    "        return True\n",
    "    return False\n",
    "twodigitsnumbermatch(n)"
   ]
  },
  {
   "cell_type": "code",
   "execution_count": null,
   "metadata": {},
   "outputs": [],
   "source": [
    "# user name match\n",
    "s=input(('enter a user name :'))\n",
    "def matchusername(s):\n",
    "    pattern='^[A-Z a-z 0-9 _]{6,15}$'\n",
    "    if re.match(pattern,s):\n",
    "        return True\n",
    "    return False\n",
    "matchusername(s)"
   ]
  },
  {
   "cell_type": "code",
   "execution_count": 1,
   "metadata": {},
   "outputs": [
    {
     "data": {
      "text/plain": [
       "True"
      ]
     },
     "execution_count": 1,
     "metadata": {},
     "output_type": "execute_result"
    }
   ],
   "source": [
    "import re\n",
    "n=int(input('enter a number'))\n",
    "def matchusername(s):\n",
    "    pattern='^[1][5][2][1][A a][0][1-9][0-9][0-9]$'\n",
    "    if re.match(pattern,s):\n",
    "        return True\n",
    "    return False\n",
    "matchusername('1521A0206')"
   ]
  },
  {
   "cell_type": "code",
   "execution_count": null,
   "metadata": {},
   "outputs": [],
   "source": [
    "# validation for indian mobile number\n",
    "import re\n",
    "n=int(input('enter a number'))\n",
    "def validateindianmobile(n):\n",
    "    pattern='^[6-9][0-9]{9}$'\n",
    "    n=str(n)\n",
    "    if re.match(pattern,n):\n",
    "        return True\n",
    "    return False\n",
    "validateindianmobile(n)"
   ]
  },
  {
   "cell_type": "code",
   "execution_count": null,
   "metadata": {},
   "outputs": [],
   "source": [
    "import re\n",
    "def validateindianmobile(n):\n",
    "    pattern='^[+][9][1][6-9][0-9]{9}$|^[6-9][0-9]{9}$'\n",
    "    n=str(n)\n",
    "    if re.match(pattern,n):\n",
    "        return True\n",
    "    return False\n",
    "n=input(\"enter a mobile number \")\n",
    "validateindianmobile(n)"
   ]
  },
  {
   "cell_type": "markdown",
   "metadata": {},
   "source": [
    "# to validate the emailid\n",
    "#user name@ domain name.extention\n",
    "# chandu@abcd.org\n",
    "# chandu1997@gmail.com"
   ]
  },
  {
   "cell_type": "code",
   "execution_count": 20,
   "metadata": {},
   "outputs": [
    {
     "name": "stdout",
     "output_type": "stream",
     "text": [
      "enter a email kellachandrasekharnaidu@gmail.com\n"
     ]
    },
    {
     "data": {
      "text/plain": [
       "True"
      ]
     },
     "execution_count": 20,
     "metadata": {},
     "output_type": "execute_result"
    }
   ],
   "source": [
    "\n",
    "def validateEmailid(email):\n",
    "    pattern='^[A-Z a-z][A-Z a-z 0-9 . _]{5,30}[@][A-Z a-z]{3,10}[.][A-Z a-z]{2,3}$'\n",
    "    if re.match(pattern,email):\n",
    "        return True\n",
    "    return False\n",
    "email=input(\"enter a email \")\n",
    "validateEmailid(email)"
   ]
  },
  {
   "cell_type": "code",
   "execution_count": null,
   "metadata": {},
   "outputs": [],
   "source": [
    "#password validation\n",
    " pattern'=^[A-Z a-z 0-9 . * # !]$'"
   ]
  }
 ],
 "metadata": {
  "kernelspec": {
   "display_name": "Python 3",
   "language": "python",
   "name": "python3"
  },
  "language_info": {
   "codemirror_mode": {
    "name": "ipython",
    "version": 3
   },
   "file_extension": ".py",
   "mimetype": "text/x-python",
   "name": "python",
   "nbconvert_exporter": "python",
   "pygments_lexer": "ipython3",
   "version": "3.7.4"
  }
 },
 "nbformat": 4,
 "nbformat_minor": 2
}
